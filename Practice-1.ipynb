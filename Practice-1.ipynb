{
 "cells": [
  {
   "cell_type": "markdown",
   "id": "1955dfb2-e3b1-41c9-b45d-9e5e3b7f9508",
   "metadata": {},
   "source": [
    "#Complex Data type\n",
    "It is a special data type known as Complex data type\n",
    "#Syntax of complex data type\n",
    "a + bj\n",
    "here a = real part and b = imaginary part\n",
    "in Mathematics i is an imaginary part Similarly, j in python "
   ]
  },
  {
   "cell_type": "markdown",
   "id": "d6ab4f2b-efa5-4758-8fcd-5bf7c10573c4",
   "metadata": {},
   "source": [
    "#Data types: bool data type\n",
    "To represent the bool values we use bool data types in python\n",
    "They allow data types like True or False\n",
    "here, python internally represent True = 1 and False = 0"
   ]
  },
  {
   "cell_type": "markdown",
   "id": "23808e16-7e82-4472-a051-eaf734d82482",
   "metadata": {},
   "source": [
    "#Data types: str data type\n",
    "In python String is represented as str\n",
    "And it can enclosed with single quote(''), and double quotes(\"\")"
   ]
  },
  {
   "cell_type": "code",
   "execution_count": 2,
   "id": "6e832378-185b-4718-9575-6204654ea14d",
   "metadata": {},
   "outputs": [
    {
     "name": "stdout",
     "output_type": "stream",
     "text": [
      "<class 'str'>\n",
      "<class 'str'>\n",
      "a\n",
      "<class 'str'>\n"
     ]
    }
   ],
   "source": [
    "#Example for str data types\n",
    "s = 'Saifulla'\n",
    "print(type(s)) # printing the data type using single quote\n",
    "s = 'a'\n",
    "print(type(s)) # printing the data type using double quotes\n",
    "s = \"a\"\n",
    "print(s)      \n",
    "print(type(s))"
   ]
  },
  {
   "cell_type": "markdown",
   "id": "d78be001-efa8-42c7-b5bc-f3ad2d3538a9",
   "metadata": {},
   "source": [
    "In pyhton we cannot use single qoute and double quote for for multiple lines of code \n",
    "So, instead of using these use the triple quotes\n",
    "It is represented as triple quotes(\"\"\")"
   ]
  },
  {
   "cell_type": "markdown",
   "id": "58e26f6d-6134-4fdd-ba4b-e542d097ae98",
   "metadata": {},
   "source": [
    "#positive and negative index in string data type\n",
    "So, we have to know about So, The characters which will used by string position is know as Index\n",
    "And the string starts from 0.\n"
   ]
  },
  {
   "cell_type": "code",
   "execution_count": 4,
   "id": "4f655fd2-744b-4859-ac4f-6969c9397205",
   "metadata": {},
   "outputs": [
    {
     "name": "stdout",
     "output_type": "stream",
     "text": [
      "S\n",
      "f\n"
     ]
    }
   ],
   "source": [
    "s = \"Saifulla\"\n",
    "print(s[0]) #here at 0th index we are printing\n",
    "print(s[3]) #printing the 3rd index value\n"
   ]
  },
  {
   "cell_type": "code",
   "execution_count": 5,
   "id": "a1a92ca3-a6ba-4eef-a570-8ea156c3fd58",
   "metadata": {},
   "outputs": [
    {
     "ename": "IndexError",
     "evalue": "string index out of range",
     "output_type": "error",
     "traceback": [
      "\u001b[31m---------------------------------------------------------------------------\u001b[39m",
      "\u001b[31mIndexError\u001b[39m                                Traceback (most recent call last)",
      "\u001b[36mCell\u001b[39m\u001b[36m \u001b[39m\u001b[32mIn[5]\u001b[39m\u001b[32m, line 2\u001b[39m\n\u001b[32m      1\u001b[39m s = \u001b[33m\"\u001b[39m\u001b[33mSaifulla\u001b[39m\u001b[33m\"\u001b[39m\n\u001b[32m----> \u001b[39m\u001b[32m2\u001b[39m \u001b[38;5;28mprint\u001b[39m(\u001b[43ms\u001b[49m\u001b[43m[\u001b[49m\u001b[32;43m50\u001b[39;49m\u001b[43m]\u001b[49m) \u001b[38;5;66;03m#printing 50th index value \u001b[39;00m\n",
      "\u001b[31mIndexError\u001b[39m: string index out of range"
     ]
    }
   ],
   "source": [
    "s = \"Saifulla\"\n",
    "print(s[50]) #printing 50th index value "
   ]
  },
  {
   "cell_type": "markdown",
   "id": "47666956-19dc-4b1f-90b8-c0243b660cd1",
   "metadata": {},
   "source": [
    "what's the special feature in indexing?\n",
    "It provides Negative indexing and positive indexing\n",
    "In negative indexing it starts from -1 to reverse direction of a String"
   ]
  },
  {
   "cell_type": "code",
   "execution_count": 7,
   "id": "a05713a2-32db-47e0-89c0-cee6931b43b4",
   "metadata": {},
   "outputs": [
    {
     "name": "stdout",
     "output_type": "stream",
     "text": [
      "l\n",
      "f\n"
     ]
    }
   ],
   "source": [
    "#Same example in Negatuve indexing\n",
    "s = \"Saifulla\"\n",
    "print(s[-2]) #here at -2 negative index we are printing\n",
    "print(s[-5]) "
   ]
  },
  {
   "cell_type": "code",
   "execution_count": 8,
   "id": "238a38be-c802-4218-8c09-ecef6eb41ab7",
   "metadata": {},
   "outputs": [
    {
     "ename": "IndexError",
     "evalue": "string index out of range",
     "output_type": "error",
     "traceback": [
      "\u001b[31m---------------------------------------------------------------------------\u001b[39m",
      "\u001b[31mIndexError\u001b[39m                                Traceback (most recent call last)",
      "\u001b[36mCell\u001b[39m\u001b[36m \u001b[39m\u001b[32mIn[8]\u001b[39m\u001b[32m, line 2\u001b[39m\n\u001b[32m      1\u001b[39m s = \u001b[33m\"\u001b[39m\u001b[33mSaifulla\u001b[39m\u001b[33m\"\u001b[39m\n\u001b[32m----> \u001b[39m\u001b[32m2\u001b[39m \u001b[38;5;28mprint\u001b[39m(\u001b[43ms\u001b[49m\u001b[43m[\u001b[49m\u001b[43m-\u001b[49m\u001b[32;43m50\u001b[39;49m\u001b[43m]\u001b[49m) \u001b[38;5;66;03m#printing -50th index value \u001b[39;00m\n\u001b[32m      3\u001b[39m \u001b[38;5;66;03m#we will get same error like it is out of range\u001b[39;00m\n",
      "\u001b[31mIndexError\u001b[39m: string index out of range"
     ]
    }
   ],
   "source": [
    "s = \"Saifulla\"\n",
    "print(s[-50]) #printing -50th index value \n",
    "#we will get same error like it is out of range"
   ]
  },
  {
   "cell_type": "markdown",
   "id": "b8735c4e-8e5e-4ada-b122-c16e55224089",
   "metadata": {},
   "source": [
    "#Slice operator in String data types\n",
    "What is Slice\n",
    "cutting a Mango into some pieces then each piece will become a Slice\n",
    "In the same in the sense breaking a string into parts are know as Slice"
   ]
  },
  {
   "cell_type": "code",
   "execution_count": 19,
   "id": "8d1689f6-5e31-468f-8d13-1483e4adf375",
   "metadata": {},
   "outputs": [
    {
     "name": "stdout",
     "output_type": "stream",
     "text": [
      "cdefghijklmnopq\n"
     ]
    }
   ],
   "source": [
    "#Example\n",
    "s = 'abcdefghijklmnopqrstuvwxyz' \n",
    "slice = s[2:17]    \n",
    "print(slice)"
   ]
  },
  {
   "cell_type": "code",
   "execution_count": 20,
   "id": "1538cb68-4dd8-48d6-bfe7-326631c9b710",
   "metadata": {},
   "outputs": [
    {
     "name": "stdout",
     "output_type": "stream",
     "text": [
      "abcdefghijklmnopq\n"
     ]
    }
   ],
   "source": [
    "#suppose if we are not assign the beginning index then it starts from 0th index\n",
    "s = 'abcdefghijklmnopqrstuvwxyz' \n",
    "slice = s[:17]    \n",
    "print(slice)"
   ]
  },
  {
   "cell_type": "code",
   "execution_count": 21,
   "id": "b28b21ac-ba83-49cd-8469-e085d98c8a7b",
   "metadata": {},
   "outputs": [
    {
     "name": "stdout",
     "output_type": "stream",
     "text": [
      "cdefghijklmnopqrstuvwxyz\n"
     ]
    }
   ],
   "source": [
    "#suppose if we are not assign the end index then it prints upto last index\n",
    "s = 'abcdefghijklmnopqrstuvwxyz' \n",
    "slice = s[2:]    \n",
    "print(slice)"
   ]
  },
  {
   "cell_type": "code",
   "execution_count": 22,
   "id": "ec530caa-4df6-49d8-b5bf-6b20ad2e068e",
   "metadata": {},
   "outputs": [
    {
     "name": "stdout",
     "output_type": "stream",
     "text": [
      "abcdefghijklmnopqrstuvwxyz\n"
     ]
    }
   ],
   "source": [
    "#Suppose we are not assigning beginning index and end index \n",
    "s = 'abcdefghijklmnopqrstuvwxyz' \n",
    "slice = s[:]    \n",
    "print(slice)"
   ]
  },
  {
   "cell_type": "code",
   "execution_count": 33,
   "id": "0d9a24f1-59d9-43fa-acb0-bbff32685a56",
   "metadata": {},
   "outputs": [
    {
     "name": "stdout",
     "output_type": "stream",
     "text": [
      "Saifulla\n"
     ]
    }
   ],
   "source": [
    "s = 'saifulla'\n",
    "d = s[0].upper() + s[1:]\n",
    "print(d)\n"
   ]
  },
  {
   "cell_type": "code",
   "execution_count": 42,
   "id": "5940259e-7acc-42a8-9c77-915e4d486e02",
   "metadata": {},
   "outputs": [
    {
     "name": "stdout",
     "output_type": "stream",
     "text": [
      "saifsaifsaifsaifsaif\n",
      "saifsaif\n"
     ]
    }
   ],
   "source": [
    "#+ and * operators for str data type \n",
    "x = 'saif' *5 #To repeat the stmt we use *\n",
    "print(x)\n",
    "x = 'saif' + 'saif' #to add to variables we use + operator, we can also called concatenation\n",
    "print(x)"
   ]
  },
  {
   "cell_type": "markdown",
   "id": "11c9e3b3-172c-47be-9287-fa3ae19cc482",
   "metadata": {},
   "source": [
    "Type casting\n",
    "it is a process of converting one type to another type is know as type casting\n",
    "\n"
   ]
  },
  {
   "cell_type": "markdown",
   "id": "fea75b3c-9a78-40a5-aed9-4a9969d70656",
   "metadata": {},
   "source": [
    "#Fundamental Data Types vs Immutability \n",
    "All fundamental data types are immutable\n",
    "what is Immutable?\n",
    "If we create once an object we cannot change it so, it is non-changeable\n",
    "\n"
   ]
  },
  {
   "cell_type": "code",
   "execution_count": 44,
   "id": "fcf7fb47-c7e9-4d55-969d-62b857b88813",
   "metadata": {},
   "outputs": [
    {
     "name": "stdout",
     "output_type": "stream",
     "text": [
      "140731248035016\n",
      "140731248035048\n"
     ]
    }
   ],
   "source": [
    "#example\n",
    "x = 10\n",
    "print(id(x))\n",
    "x = x+1\n",
    "print(id(x))\n"
   ]
  },
  {
   "cell_type": "code",
   "execution_count": 47,
   "id": "c5bd391b-7381-4b78-9999-62c59dba2164",
   "metadata": {},
   "outputs": [
    {
     "name": "stdout",
     "output_type": "stream",
     "text": [
      "140731248035016\n",
      "140731248035016\n",
      "10\n",
      "11\n",
      "140731248035016\n",
      "140731248035048\n"
     ]
    }
   ],
   "source": [
    "#Assign same variables\n",
    "x = 10 \n",
    "y = x \n",
    "print(id(x))  \n",
    "print(id(y))\n",
    "y = y + 1 \n",
    "print(x)  \n",
    "print(y) \n",
    "#Now after changing it gets different id\n",
    "print(id(x))  \n",
    "print(id(y)) "
   ]
  },
  {
   "cell_type": "markdown",
   "id": "99ce4c41-0538-42c9-bb1d-988ccae0c9e6",
   "metadata": {},
   "source": [
    "# Mutability\n",
    "If we create once an object we can change the modifications so, it is changeable it is called Mutable\n",
    "#Example data types: Lists, Tuples, Dictionaries etc., are mutable\n",
    "1. List: Group of Objects\n",
    "   example l = [10,20,25,30,40,45]\n",
    "   l = [10,20,25,30,40,45]\n",
    "   #by using index we can print\n",
    "   print(l[0]) #we will get as 10\n",
    "   print(l[4]) #we will get as 40\n",
    "\n",
    "So as i said list is Mutable know see how it works\n",
    "Consider an example\n",
    "l = [10,20,30] \n",
    "print(l) \n",
    "# output [10,20,30]\n",
    "print(id(l))\n",
    "# output 5626136821\n",
    "l[0]=2526 # now object 10 will replace with 2526 \n",
    "print(l) \n",
    "# output [2526,20,30]\n",
    "print(id(l))\n",
    "# output 3274629842\n",
    "\n",
    "   \n",
    "   \n"
   ]
  },
  {
   "cell_type": "code",
   "execution_count": 50,
   "id": "dbf34a99-842b-4697-8b32-f822e655cf45",
   "metadata": {},
   "outputs": [
    {
     "name": "stdout",
     "output_type": "stream",
     "text": [
      "[10, 20, 30]\n",
      "1413208518912\n",
      "[2526, 20, 30]\n",
      "1413208518912\n"
     ]
    }
   ],
   "source": [
    "#Example\n",
    "l = [10,20,30] \n",
    "print(l) \n",
    "# output [10,20,30]\n",
    "print(id(l))\n",
    "# output 5626136821\n",
    "l[0]=2526 # now object 10 will replace with 2526 \n",
    "print(l) \n",
    "# output [2526,20,30]\n",
    "print(id(l))\n",
    "# output 3274629842\n",
    "\n",
    "   "
   ]
  },
  {
   "cell_type": "markdown",
   "id": "953351b5-e83b-4b5b-9a18-dec46bc68c44",
   "metadata": {},
   "source": [
    "# Range data type \n",
    "It represents sequence of numbers\n",
    "It is an in-buit function() in python\n",
    "Range object is immutable"
   ]
  },
  {
   "cell_type": "code",
   "execution_count": 56,
   "id": "e5a29ea3-3489-45d5-af01-e00ccc0821a2",
   "metadata": {},
   "outputs": [
    {
     "name": "stdout",
     "output_type": "stream",
     "text": [
      "<class 'range'>\n",
      "range(0, 10)\n",
      "0123456789"
     ]
    }
   ],
   "source": [
    "#Example for range\n",
    "r = range(10)\n",
    "print(type(r))\n",
    "print(r)\n",
    "for x in r:\n",
    "    print(x,end = '')"
   ]
  },
  {
   "cell_type": "code",
   "execution_count": 58,
   "id": "880f91c2-6ddd-49be-a45f-feb66b3748cb",
   "metadata": {},
   "outputs": [
    {
     "name": "stdout",
     "output_type": "stream",
     "text": [
      "10\n",
      "19\n"
     ]
    }
   ],
   "source": [
    "# Can we access elements present in the range Data Type by using index\n",
    "r = range(10,21)\n",
    "print(r[0])\n",
    "print(r[-2])"
   ]
  },
  {
   "cell_type": "code",
   "execution_count": 59,
   "id": "dbacc92f-0011-41e8-ac65-e09858b9e366",
   "metadata": {},
   "outputs": [
    {
     "name": "stdout",
     "output_type": "stream",
     "text": [
      "range(11, 15)\n",
      "11 12 13 14 "
     ]
    }
   ],
   "source": [
    "r1 = r[1:5]\n",
    "print(r1)\n",
    "for x in r1:\n",
    "     print(x,end=' ')"
   ]
  },
  {
   "cell_type": "code",
   "execution_count": 61,
   "id": "c30523e5-3049-4a60-a951-9b37345c0efc",
   "metadata": {},
   "outputs": [
    {
     "name": "stdout",
     "output_type": "stream",
     "text": [
      "[0, 1, 2, 3, 4, 5, 6, 7, 8, 9]\n"
     ]
    }
   ],
   "source": [
    "#Can we create a list of values with range data type\n",
    "l = list(range(10))\n",
    "print(l)\n",
    "#Output:\n",
    "#[0, 1, 2, 3, 4, 5, 6, 7, 8, 9"
   ]
  },
  {
   "cell_type": "markdown",
   "id": "392b710a-e594-4caa-9440-04f628f41e08",
   "metadata": {},
   "source": [
    "#  Bytes and Byte array in python\n",
    "Bytes array represents group of byte array just like an array\n",
    "It is immutable"
   ]
  },
  {
   "cell_type": "code",
   "execution_count": 66,
   "id": "2901e602-0b5e-4f0c-a0ad-c87ccba3f209",
   "metadata": {},
   "outputs": [
    {
     "name": "stdout",
     "output_type": "stream",
     "text": [
      "<class 'bytes'>\n",
      "10\n",
      "20\n",
      "30\n",
      "40\n"
     ]
    }
   ],
   "source": [
    "#Example\n",
    "l = [10,20,30,40]\n",
    "b = bytes(l) \n",
    "print(type(b))\n",
    "#Suppose if we want to print inside the b\n",
    "for x in b:\n",
    "    print(x)"
   ]
  },
  {
   "cell_type": "code",
   "execution_count": 68,
   "id": "547bb15c-b612-4c82-932a-16d106e52396",
   "metadata": {},
   "outputs": [
    {
     "ename": "ValueError",
     "evalue": "bytes must be in range(0, 256)",
     "output_type": "error",
     "traceback": [
      "\u001b[31m---------------------------------------------------------------------------\u001b[39m",
      "\u001b[31mValueError\u001b[39m                                Traceback (most recent call last)",
      "\u001b[36mCell\u001b[39m\u001b[36m \u001b[39m\u001b[32mIn[68]\u001b[39m\u001b[32m, line 5\u001b[39m\n\u001b[32m      1\u001b[39m \u001b[38;5;66;03m# In bytes array they have two various conclusions are they\u001b[39;00m\n\u001b[32m      2\u001b[39m \u001b[38;5;66;03m#1. 0-255 values are only allowed\u001b[39;00m\n\u001b[32m      3\u001b[39m \u001b[38;5;66;03m#Example\u001b[39;00m\n\u001b[32m      4\u001b[39m l = [\u001b[32m10\u001b[39m,\u001b[32m20\u001b[39m,\u001b[32m30\u001b[39m,\u001b[32m40\u001b[39m,\u001b[32m256\u001b[39m] \u001b[38;5;66;03m#here we have taken 256 as a value in an array\u001b[39;00m\n\u001b[32m----> \u001b[39m\u001b[32m5\u001b[39m b = \u001b[38;5;28;43mbytes\u001b[39;49m\u001b[43m(\u001b[49m\u001b[43ml\u001b[49m\u001b[43m)\u001b[49m\n\u001b[32m      6\u001b[39m \u001b[38;5;66;03m# output it will give you error due to range should be considerd from 0-255 only\u001b[39;00m\n",
      "\u001b[31mValueError\u001b[39m: bytes must be in range(0, 256)"
     ]
    }
   ],
   "source": [
    "# In bytes array they have two various conclusions are they\n",
    "#1. 0-255 values are only allowed\n",
    "#Example\n",
    "l = [10,20,30,40,256] #here we have taken 256 as a value in an array\n",
    "b = bytes(l)\n",
    "# output it will give you error due to range should be considerd from 0-255 only"
   ]
  },
  {
   "cell_type": "markdown",
   "id": "c0951d87-99a7-4cc2-81f6-9e0732b97ea0",
   "metadata": {},
   "source": [
    "# 2. it is immutable"
   ]
  },
  {
   "cell_type": "code",
   "execution_count": 69,
   "id": "e57e80e5-c983-41bd-ac99-ec454947e072",
   "metadata": {},
   "outputs": [
    {
     "name": "stdout",
     "output_type": "stream",
     "text": [
      "10\n"
     ]
    },
    {
     "ename": "TypeError",
     "evalue": "'bytes' object does not support item assignment",
     "output_type": "error",
     "traceback": [
      "\u001b[31m---------------------------------------------------------------------------\u001b[39m",
      "\u001b[31mTypeError\u001b[39m                                 Traceback (most recent call last)",
      "\u001b[36mCell\u001b[39m\u001b[36m \u001b[39m\u001b[32mIn[69]\u001b[39m\u001b[32m, line 5\u001b[39m\n\u001b[32m      3\u001b[39m b = \u001b[38;5;28mbytes\u001b[39m(l)\n\u001b[32m      4\u001b[39m \u001b[38;5;28mprint\u001b[39m(b[\u001b[32m0\u001b[39m])\n\u001b[32m----> \u001b[39m\u001b[32m5\u001b[39m \u001b[43mb\u001b[49m\u001b[43m[\u001b[49m\u001b[32;43m0\u001b[39;49m\u001b[43m]\u001b[49m = \u001b[32m100\u001b[39m\n\u001b[32m      6\u001b[39m \u001b[38;5;66;03m#output will be \u001b[39;00m\n",
      "\u001b[31mTypeError\u001b[39m: 'bytes' object does not support item assignment"
     ]
    }
   ],
   "source": [
    "#Example\n",
    "l = [10,20,30,40]\n",
    "b = bytes(l)\n",
    "print(b[0])\n",
    "b[0] = 100\n",
    "#output will be it does not support item assignment like it is Immutable"
   ]
  },
  {
   "cell_type": "markdown",
   "id": "24d8ce55-570d-48bb-ae17-d9217e275646",
   "metadata": {},
   "source": [
    " # Byte array \n",
    "It is similar to Bytes array but it can modify\n",
    "It is Mutable\n"
   ]
  },
  {
   "cell_type": "code",
   "execution_count": 74,
   "id": "131fadd5-c7bc-4cf1-bf03-4fa0354b3127",
   "metadata": {},
   "outputs": [
    {
     "name": "stdout",
     "output_type": "stream",
     "text": [
      "10 10\n",
      "20 10\n",
      "30 10\n",
      "40 10\n",
      "188\n"
     ]
    }
   ],
   "source": [
    "#Example\n",
    "l = [10,20,30,40]\n",
    "b = bytearray(l)\n",
    "for i in b:\n",
    "    print(i,end=' ')\n",
    "    print(b[0])\n",
    "b[0] = 188\n",
    "print(b[0])\n",
    "#It is Mutable we easily modify it"
   ]
  },
  {
   "cell_type": "markdown",
   "id": "9b6a2b3d-680a-43a5-bece-fa5ff4906f69",
   "metadata": {},
   "source": [
    "# None data type in Python\n",
    "None means nothing\n",
    "there are some situations like the values are not available at that time the None data type was introduced \n",
    "If we assign nothing to a variable it will considerd as None"
   ]
  },
  {
   "cell_type": "code",
   "execution_count": 76,
   "id": "a5137ac5-4404-414a-b85d-6ec5f11dd804",
   "metadata": {},
   "outputs": [
    {
     "name": "stdout",
     "output_type": "stream",
     "text": [
      "140731247149552\n",
      "<class 'NoneType'>\n"
     ]
    }
   ],
   "source": [
    "#Example\n",
    "s = None # here None is an object\n",
    "print(id(s))\n",
    "print(type(s))\n",
    "# as we get output with None Datatype"
   ]
  },
  {
   "cell_type": "code",
   "execution_count": 77,
   "id": "1a491b19-25df-4091-9f38-dce4bab3ac3d",
   "metadata": {},
   "outputs": [
    {
     "name": "stdout",
     "output_type": "stream",
     "text": [
      "140731247149552\n",
      "140731247149552\n",
      "140731247149552\n",
      "140731247149552\n"
     ]
    }
   ],
   "source": [
    "#Example\n",
    "a = None\n",
    "b = None\n",
    "c = None\n",
    "def f1(): #defing a function() as f1\n",
    "    pass \n",
    "d = f1()   # so here d internally contains None only like we did not assign the value\n",
    "print(id(a))  #It gives us output\n",
    "print(id(b))  #It gives us output\n",
    "print(id(c))  #It gives us output\n",
    "print(id(d))  #It gives us output"
   ]
  },
  {
   "cell_type": "code",
   "execution_count": null,
   "id": "6046ca1a-e563-4d72-83a8-0909ca81a1fe",
   "metadata": {},
   "outputs": [],
   "source": []
  }
 ],
 "metadata": {
  "kernelspec": {
   "display_name": "Python 3 (ipykernel)",
   "language": "python",
   "name": "python3"
  },
  "language_info": {
   "codemirror_mode": {
    "name": "ipython",
    "version": 3
   },
   "file_extension": ".py",
   "mimetype": "text/x-python",
   "name": "python",
   "nbconvert_exporter": "python",
   "pygments_lexer": "ipython3",
   "version": "3.13.4"
  }
 },
 "nbformat": 4,
 "nbformat_minor": 5
}
