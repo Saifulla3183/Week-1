{
 "cells": [
  {
   "cell_type": "markdown",
   "id": "f0c4e6c8-2579-4367-90a4-fb271c59a3c2",
   "metadata": {},
   "source": [
    "# operators\n",
    "If we are doing some operation is know as operator\n",
    "In python there are different types of operators are there\n",
    "1. Arithmetic Operators \n",
    "2. Relational or Comparison Operators \n",
    "3. Equality Operators \n",
    "4. Logical Operators \n",
    "5. Bitwise Operators \n",
    "6. Shift Operators \n",
    "7. Assignment Operator \n",
    "8. Ternary Operator (or) Conditional Operator \n",
    "9. Special Operators \n",
    "   i) Identity Operators \n",
    "   ii) Membership Operators \n",
    "10. Operator Precedence \n",
    "11. Mathematical functions using math module"
   ]
  },
  {
   "cell_type": "markdown",
   "id": "37e7e1c3-284d-44a5-a98a-3c914d7ae84c",
   "metadata": {},
   "source": [
    " # Arithemtic Operator\n",
    "The arithematic operator have 5 common operators are there\n",
    "1. addition operator +\n",
    "2. subtraction operator -\n",
    "3. Multiplication operator *\n",
    "4. Normal division /\n",
    "5. Modulo division %\n",
    "6. Floor division //\n",
    "7. Exponential operator **\n"
   ]
  },
  {
   "cell_type": "code",
   "execution_count": 1,
   "id": "af966fa6-3dc7-4824-996f-c2ba97689218",
   "metadata": {},
   "outputs": [
    {
     "name": "stdout",
     "output_type": "stream",
     "text": [
      "12\n",
      "7\n",
      "30\n",
      "3.3333333333333335\n",
      "1\n",
      "3\n",
      "1000\n"
     ]
    }
   ],
   "source": [
    "#Example for addition operator\n",
    "a = 5 \n",
    "b = 7 \n",
    "print(a+b)\n",
    "#Example for Subtraction operator\n",
    "a = 10 \n",
    "b = 3 \n",
    "print(a-b)\n",
    "#Example for Multiplication operator\n",
    "a = 10 \n",
    "b = 3 \n",
    "print(a*b)\n",
    "#Example for Normal division\n",
    "a = 10 \n",
    "b = 3 \n",
    "print(a/b) \n",
    "#Example for Modulo division\n",
    "a = 10 \n",
    "b = 3 \n",
    "print(a%b)\n",
    "#Example for Floor division\n",
    "a = 10 \n",
    "b = 3 \n",
    "print(a//b)\n",
    "#Example for Exponential operator\n",
    "a = 10 \n",
    "b = 3 \n",
    "print(a**b) "
   ]
  },
  {
   "cell_type": "markdown",
   "id": "65efddaa-c43e-419c-9f86-61c3a12d6598",
   "metadata": {},
   "source": [
    "# Comparison Operators \n",
    "The comparsison operator is a operator that compare 2 different values\n",
    "It uses Bool data types for output #like True or False\n",
    "It have different types\n",
    "1. Less than (<)\n",
    "2. Greater than (>)\n",
    "3. Less than or Equal to (<=)\n",
    "4. Greater than or Equal to (>=)"
   ]
  },
  {
   "cell_type": "code",
   "execution_count": 6,
   "id": "576c2673-6501-40a9-b1a4-04a0a7de9195",
   "metadata": {},
   "outputs": [
    {
     "name": "stdout",
     "output_type": "stream",
     "text": [
      "True\n",
      "False\n",
      "False\n",
      "True\n"
     ]
    }
   ],
   "source": [
    "#Example for Less than '<'\n",
    "a = 10\n",
    "b = 20\n",
    "print(a<b)\n",
    "#Example for greater than '>'\n",
    "a = 10\n",
    "b = 20\n",
    "print(a>b)\n",
    "#Example for Less than or Equal to '<='\n",
    "a = 20\n",
    "b = 10\n",
    "print(a<=b)\n",
    "#Example for Greater than or Equal to '>='\n",
    "a = 20\n",
    "b = 10\n",
    "print(a>=b)\n"
   ]
  },
  {
   "cell_type": "markdown",
   "id": "dcfd51ba-dc8e-4a81-bfee-61ef0f593951",
   "metadata": {},
   "source": [
    "#  Equality Operators:\n",
    "Equality operators are used to check whether the given two values are equal or not\n",
    "In Equality operator it have only those two operators ('==') and ('!=')\n",
    "1. Equal to ('==')\n",
    "2. Not Equal to ('!=')"
   ]
  },
  {
   "cell_type": "code",
   "execution_count": 7,
   "id": "968d4b0e-7304-4694-8ed2-6f6da283dfa8",
   "metadata": {},
   "outputs": [
    {
     "name": "stdout",
     "output_type": "stream",
     "text": [
      "False\n",
      "True\n",
      "True\n",
      "True\n"
     ]
    }
   ],
   "source": [
    "#Example for Equal to\n",
    "print(10==20)\n",
    "#Example for not equal to\n",
    "print(10!=20)\n",
    "#Different Examples\n",
    "print(1==True)\n",
    "print(10==10.0)"
   ]
  },
  {
   "cell_type": "markdown",
   "id": "621fdd99-5dc2-44f5-9173-6e98ed76aad9",
   "metadata": {},
   "source": [
    "# Logical Operators\n",
    "There are various types of Logical operators used in Python\n",
    "1. and\n",
    "2. or\n",
    "3. not\n",
    "Here we can apply boolean type and non boolean type and the behaviour is different"
   ]
  },
  {
   "cell_type": "markdown",
   "id": "388f3434-9093-4148-9df2-afa780e65285",
   "metadata": {},
   "source": [
    "# For boolean types: \n",
    "and # If both arguments are True then only result is True \n",
    "or  # If at least one argument is True then result is True \n",
    "not # complement \n",
    "# 'and' Operator for boolean type: \n",
    "# here if both arguments are True then only result is True. \n",
    "print(True and True)  \n",
    "print(True and False)  \n",
    "print(False and True)  \n",
    "print(False and False) \n",
    "# 'or' Operator for boolean type: \n",
    "# here if both arguments are True then only result is True. \n",
    "print(True or True)  \n",
    "print(True or False)  \n",
    "print(False or True)  \n",
    "print(False or False) \n",
    "# 'not' Operator for boolean type: \n",
    "# here simply we can say Complement (or) Reverse \n",
    "print(not True)  \n",
    "print(not False) "
   ]
  },
  {
   "cell_type": "code",
   "execution_count": 1,
   "id": "0197ce15-f655-48dd-9f40-a33fb10696a3",
   "metadata": {},
   "outputs": [
    {
     "name": "stdout",
     "output_type": "stream",
     "text": [
      "True\n",
      "False\n",
      "False\n",
      "False\n",
      "True\n",
      "True\n",
      "True\n",
      "False\n",
      "False\n",
      "True\n"
     ]
    }
   ],
   "source": [
    "#Excution of 'and' operator\n",
    "print(True and True)  \n",
    "print(True and False)  \n",
    "print(False and True)  \n",
    "print(False and False)\n",
    "#Excution of 'or' operator\n",
    "print(True or True)  \n",
    "print(True or False)  \n",
    "print(False or True)  \n",
    "print(False or False)\n",
    "#Excution of 'not' operator\n",
    "print(not True)  \n",
    "print(not False) "
   ]
  },
  {
   "cell_type": "markdown",
   "id": "88465711-49c3-47e6-b5ac-10c6995fcf67",
   "metadata": {},
   "source": [
    "# For non-boolean types behavior:  \n",
    "here  0 means False \n",
    "and non-zero means True \n",
    "and empty strings, list, tuple, set, dict is always treated as False\n"
   ]
  },
  {
   "cell_type": "code",
   "execution_count": 3,
   "id": "f1f18660-55a2-4e7a-941d-304f20b56817",
   "metadata": {},
   "outputs": [
    {
     "name": "stdout",
     "output_type": "stream",
     "text": [
      "20\n",
      "0\n",
      "sahasra\n",
      "\n",
      "karthi\n",
      "\n"
     ]
    }
   ],
   "source": [
    "# Example\n",
    "print(10 and 20)   \n",
    "print(0 and 20) \n",
    "print('karthi' and 'sahasra')\n",
    "print('' and 'karthi') # here first argument is empty string \n",
    "print(' ' and 'karthi') # here first argument contains space character, so it is not empty\n",
    "print('karthi' and '') # second argument is empty string\n",
    "print('karthi' and ' ') # second argument contains space character, so it is not empty"
   ]
  },
  {
   "cell_type": "markdown",
   "id": "85b4a595-80b0-42bf-95cb-1169b698faa1",
   "metadata": {},
   "source": [
    "#  Bitwise Operators \n",
    "So it is used as bit by bit\n",
    "and It is only applicable for 'int' and 'bool'\n",
    "not applicable for other types if we try it we will get error\n",
    "# Types in bitwise operator\n",
    "1. Bitwise and (&) \n",
    "2. Bitwise or (|) \n",
    "3. Bitwise ex-or (^) \n",
    "4. Bitwise complement (~) \n",
    "5. Bitwise left shift Operator (<<) \n",
    "6. Bitwise right shift Operator(>>)\n"
   ]
  },
  {
   "cell_type": "code",
   "execution_count": 5,
   "id": "a6519391-1f42-48d2-a0eb-46d12bc86357",
   "metadata": {},
   "outputs": [
    {
     "name": "stdout",
     "output_type": "stream",
     "text": [
      "0b1010\n",
      "0b10100\n",
      "0\n"
     ]
    },
    {
     "ename": "TypeError",
     "evalue": "unsupported operand type(s) for &: 'float' and 'float'",
     "output_type": "error",
     "traceback": [
      "\u001b[31m---------------------------------------------------------------------------\u001b[39m",
      "\u001b[31mTypeError\u001b[39m                                 Traceback (most recent call last)",
      "\u001b[36mCell\u001b[39m\u001b[36m \u001b[39m\u001b[32mIn[5]\u001b[39m\u001b[32m, line 5\u001b[39m\n\u001b[32m      3\u001b[39m \u001b[38;5;28mprint\u001b[39m(\u001b[38;5;28mbin\u001b[39m(\u001b[32m20\u001b[39m))    \u001b[38;5;66;03m# no error will come\u001b[39;00m\n\u001b[32m      4\u001b[39m \u001b[38;5;28mprint\u001b[39m(\u001b[32m10\u001b[39m & \u001b[32m20\u001b[39m)    \u001b[38;5;66;03m# no error will come\u001b[39;00m\n\u001b[32m----> \u001b[39m\u001b[32m5\u001b[39m \u001b[38;5;28mprint\u001b[39m(\u001b[32;43m10.0\u001b[39;49m\u001b[43m \u001b[49m\u001b[43m&\u001b[49m\u001b[43m \u001b[49m\u001b[32;43m20.0\u001b[39;49m) \u001b[38;5;66;03m# here we will get error bcoz it contains float \u001b[39;00m\n\u001b[32m      6\u001b[39m \u001b[38;5;28mprint\u001b[39m(\u001b[38;5;28;01mTrue\u001b[39;00m & \u001b[38;5;28;01mFalse\u001b[39;00m)  \n\u001b[32m      7\u001b[39m \u001b[38;5;28mprint\u001b[39m(\u001b[38;5;28;01mTrue\u001b[39;00m | \u001b[38;5;28;01mFalse\u001b[39;00m)  \n",
      "\u001b[31mTypeError\u001b[39m: unsupported operand type(s) for &: 'float' and 'float'"
     ]
    }
   ],
   "source": [
    "#Examples\n",
    "print(bin(10))    # no error will come\n",
    "print(bin(20))    # no error will come\n",
    "print(10 & 20)    # no error will come\n",
    "print(10.0 & 20.0) # here we will get error bcoz it contains float "
   ]
  },
  {
   "cell_type": "code",
   "execution_count": 7,
   "id": "d481edad-550b-4108-832a-70fd965d484d",
   "metadata": {},
   "outputs": [
    {
     "name": "stdout",
     "output_type": "stream",
     "text": [
      "False\n",
      "True\n",
      "4\n",
      "5\n",
      "1\n"
     ]
    }
   ],
   "source": [
    "#For boolean values\n",
    "print(True & False)  \n",
    "print(True | False)  \n",
    "#Different operators\n",
    "print(4 & 5)   \n",
    "print(4 | 5)   \n",
    "print(4 ^ 5) "
   ]
  },
  {
   "cell_type": "markdown",
   "id": "413a2f2e-bc3f-45ea-a2cb-dcdea6b18a89",
   "metadata": {},
   "source": [
    "# Bitwise Complement Operator (~): \n",
    "We have to apply complement for total bits. \n",
    "print(~4) # 4 ==> 100  "
   ]
  },
  {
   "cell_type": "code",
   "execution_count": 8,
   "id": "80e4780c-80de-4007-be1c-c2238e840237",
   "metadata": {},
   "outputs": [
    {
     "name": "stdout",
     "output_type": "stream",
     "text": [
      "-5\n"
     ]
    }
   ],
   "source": [
    "print(~4)"
   ]
  },
  {
   "cell_type": "markdown",
   "id": "e8aae629-7439-4568-bec7-a82da70e5b22",
   "metadata": {},
   "source": [
    "# Shift Operators\n",
    "There are various shift operators used in Python: \n",
    "1. Left Shift Operator (<<) \n",
    "2. Right Shift Operator (>>)\n",
    "# Left Shift Operator (<<): \n",
    " After shifting the bits from left side, empty cells to be filled with zero.  \n",
    "# Right Shift Operator (>>) \n",
    " After shifting the empty cells we have to fill with sign bit.( 0 for +ve and 1 for -ve) "
   ]
  },
  {
   "cell_type": "code",
   "execution_count": 15,
   "id": "72b79540-2e35-445e-8d78-67a09cfe8ff7",
   "metadata": {},
   "outputs": [
    {
     "name": "stdout",
     "output_type": "stream",
     "text": [
      "40\n",
      "80\n",
      "20\n",
      "2\n",
      "6\n"
     ]
    }
   ],
   "source": [
    "#Example for left shift operator\n",
    "print(10<<2)  \n",
    "print(10<<3)\n",
    "print(5<<2)\n",
    "#Example for Right shift operator\n",
    "print(10>>2)\n",
    "print(50>>3)"
   ]
  },
  {
   "cell_type": "markdown",
   "id": "dfa2cae3-127a-4fc2-a8dd-dbe2764fcf9d",
   "metadata": {},
   "source": [
    "# Assignment Operator\n",
    "here we can use the Assignment operator to assign a value to a variable\n",
    "Supose s = 10\n",
    "here we assigning the 10 value to a varible in between there is an assignment operator\n"
   ]
  },
  {
   "cell_type": "code",
   "execution_count": 20,
   "id": "d5acbd7c-3f86-4f27-b30e-df40f841fb50",
   "metadata": {},
   "outputs": [
    {
     "name": "stdout",
     "output_type": "stream",
     "text": [
      "20\n",
      "40\n"
     ]
    }
   ],
   "source": [
    "#Example of assignment operators\n",
    "x = 10\n",
    "x += 10\n",
    "print(x)\n",
    "x += 20\n",
    "print(x)"
   ]
  },
  {
   "cell_type": "markdown",
   "id": "09143a6f-820d-45ac-a69f-b5753ebd71ff",
   "metadata": {},
   "source": [
    "# Ternary Operator (or) Conditional Operator\n",
    "If the operator operates on Three operands, we will call such operator as Ternary operator\n",
    "# Syntax:\n",
    "x = firstValue if condition else secondValue"
   ]
  },
  {
   "cell_type": "code",
   "execution_count": 25,
   "id": "a34ef5c1-af59-4775-9627-1a108a6c2fba",
   "metadata": {},
   "outputs": [
    {
     "ename": "SyntaxError",
     "evalue": "invalid syntax (4234494896.py, line 4)",
     "output_type": "error",
     "traceback": [
      "  \u001b[36mCell\u001b[39m\u001b[36m \u001b[39m\u001b[32mIn[25]\u001b[39m\u001b[32m, line 4\u001b[39m\n\u001b[31m    \u001b[39m\u001b[31mif a>b else 100\u001b[39m\n           ^\n\u001b[31mSyntaxError\u001b[39m\u001b[31m:\u001b[39m invalid syntax\n"
     ]
    }
   ],
   "source": []
  },
  {
   "cell_type": "code",
   "execution_count": null,
   "id": "8961f6f0-5f47-4cc4-844c-7bc380c28a28",
   "metadata": {},
   "outputs": [],
   "source": []
  }
 ],
 "metadata": {
  "kernelspec": {
   "display_name": "Python 3 (ipykernel)",
   "language": "python",
   "name": "python3"
  },
  "language_info": {
   "codemirror_mode": {
    "name": "ipython",
    "version": 3
   },
   "file_extension": ".py",
   "mimetype": "text/x-python",
   "name": "python",
   "nbconvert_exporter": "python",
   "pygments_lexer": "ipython3",
   "version": "3.13.4"
  }
 },
 "nbformat": 4,
 "nbformat_minor": 5
}
