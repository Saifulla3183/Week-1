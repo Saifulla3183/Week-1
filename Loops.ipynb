{
 "cells": [
  {
   "cell_type": "markdown",
   "id": "7a303891-1fc3-4c66-9a5f-bf0ce16a9e09",
   "metadata": {},
   "source": [
    "# Conditional Statements\n",
    "Conditional statements are used to perform different actions based on different conditions, They help the program make decisions.\n",
    "There are 3 main Conditional statements are there\n",
    "1. if\n",
    "2. if-elif\n",
    "3. if-elif-else\n",
    "# Syntax of if statememt\n",
    "if condition:\n",
    " stmt 1\n",
    " stmt 2\n",
    "stmt 3\n",
    "# Syntax of if-elif or if-else statement\n",
    "if condition:\n",
    "  stmt 1\n",
    "else:\n",
    "  stmt 2\n",
    "# Syntax of if-elif-else statement\n",
    "if condition1:\n",
    "  stmt 1\n",
    "elif condition2:\n",
    "  stmt 2\n",
    "elif condition3:\n",
    "  stmt 3\n",
    "  .\n",
    "  .\n",
    "else:\n",
    "  stmt n"
   ]
  },
  {
   "cell_type": "code",
   "execution_count": 4,
   "id": "85a3a872-cc67-496b-a814-1fc67822243f",
   "metadata": {},
   "outputs": [
    {
     "name": "stdout",
     "output_type": "stream",
     "text": [
      "10 is less than 20\n",
      "1st example is End\n"
     ]
    },
    {
     "name": "stdin",
     "output_type": "stream",
     "text": [
      "Enter your name: saif\n"
     ]
    },
    {
     "name": "stdout",
     "output_type": "stream",
     "text": [
      "2nd example is end\n"
     ]
    }
   ],
   "source": [
    "#Example for if statement\n",
    "if 10<20:\n",
    "    print(\"10 is less than 20\")\n",
    "print('1st example is End')\n",
    "\n",
    "name = input(\"Enter your name:\")\n",
    "if name == 'Saif':\n",
    "    print('Hi Saif Good Morning')\n",
    "print('2nd example is end')"
   ]
  },
  {
   "cell_type": "code",
   "execution_count": 6,
   "id": "15d711c0-d9f4-468a-8ba5-52a12c179911",
   "metadata": {},
   "outputs": [
    {
     "name": "stdin",
     "output_type": "stream",
     "text": [
      "Enter your name: Saif\n"
     ]
    },
    {
     "name": "stdout",
     "output_type": "stream",
     "text": [
      "hello Saif! Welcome\n"
     ]
    }
   ],
   "source": [
    "#Example for if-else statement\n",
    "name = input(\"Enter your name:\")\n",
    "if name == 'Saif':\n",
    "    print('hello Saif! Welcome')\n",
    "else:\n",
    "    print('How are you')"
   ]
  },
  {
   "cell_type": "code",
   "execution_count": null,
   "id": "1394b73e-d2e7-4669-8a50-af55e0a579e4",
   "metadata": {},
   "outputs": [],
   "source": [
    "#Example for if-elif-else statement\n",
    "colour = input(\"Enter your favourite colour:\")\n",
    "if colour == 'Blue':\n",
    "    print(\"It is Saif favourite colour\")\n",
    "elif colour == 'Yellow':\n",
    "    print(\"It is Sohail favourite colour\")\n",
    "elif colour == \"Red\":\n",
    "    print(\"It is Someones favourite colour\")\n",
    "else:\n",
    "    print(\"Other colours are not Available\")\n"
   ]
  },
  {
   "cell_type": "code",
   "execution_count": null,
   "id": "79cfc78d-de7d-4859-8513-8b5c7e0d491b",
   "metadata": {},
   "outputs": [
    {
     "name": "stdin",
     "output_type": "stream",
     "text": [
      "Enter first number:  5\n"
     ]
    }
   ],
   "source": [
    "#Examples Write aa program to find biggest of given 2 numbers\n",
    "a = int(input(\"Enter first number: \"))\n",
    "b = int(input(\"Enter second number: \"))\n",
    "if a > b:\n",
    "    print(\"Biggest number is:\", a)\n",
    "else:\n",
    "    print(\"Biggest number is:\", b)\n",
    "\n",
    "# Example write a program to find biggest of given 3 numbers\n",
    "a = int(input(\"Enter first number: \"))\n",
    "b = int(input(\"Enter second number: \"))\n",
    "c = int(input(\"Enter third number: \"))\n",
    "if a >= b and a >= c:\n",
    "    print(\"Biggest number is:\", a)\n",
    "elif b >= a and b >= c:\n",
    "    print(\"Biggest number is:\", b)\n",
    "else:\n",
    "    print(\"Biggest number is:\", c)\n",
    "\n",
    "# Example write a program to find smallest of given 2 numbers\n",
    "a = int(input(\"Enter first number: \"))\n",
    "b = int(input(\"Enter second number: \"))\n",
    "if a < b:\n",
    "    print(\"Smallest number is:\", a)\n",
    "else:\n",
    "    print(\"Smallest number is:\", b)\n",
    "\n",
    "# Example write a program to check whether the given number is even or odd \n",
    "num = int(input(\"Enter a number: \"))\n",
    "if num % 2 == 0:\n",
    "    print(\"The number is Even\")\n",
    "else:\n",
    "    print(\"The number is Odd\")"
   ]
  },
  {
   "cell_type": "code",
   "execution_count": 5,
   "id": "6d01a4c3-2832-4587-b938-4f5aa89ac810",
   "metadata": {},
   "outputs": [
    {
     "name": "stdin",
     "output_type": "stream",
     "text": [
      "Enter Number: 92\n"
     ]
    },
    {
     "name": "stdout",
     "output_type": "stream",
     "text": [
      "The number 92 is in between 1 to 100\n"
     ]
    }
   ],
   "source": [
    "#Different Examples\n",
    "#Write a program to check whether the given number is in between 1 and 100\n",
    "s = int(input(\"Enter Number:\"))\n",
    "if s >= 1 and s <= 100:\n",
    "    print(\"The number\",s,\"is in between 1 to 100\")\n",
    "else:\n",
    "    print(\"The number\",s,\"is not in between 1 to 100\")"
   ]
  },
  {
   "cell_type": "code",
   "execution_count": 6,
   "id": "af617713-8a03-4e2f-8dc1-6ff62c882e77",
   "metadata": {},
   "outputs": [
    {
     "name": "stdin",
     "output_type": "stream",
     "text": [
      "Enter Number: 200\n"
     ]
    },
    {
     "name": "stdout",
     "output_type": "stream",
     "text": [
      "The number 200 is not in between 1 to 100\n"
     ]
    }
   ],
   "source": [
    "s = int(input(\"Enter Number:\"))\n",
    "if s >= 1 and s <= 100:\n",
    "    print(\"The number\",s,\"is in between 1 to 100\")\n",
    "else:\n",
    "    print(\"The number\",s,\"is not in between 1 to 100\")"
   ]
  },
  {
   "cell_type": "code",
   "execution_count": 9,
   "id": "34a03fe0-71c0-4578-828b-aea762fa98f8",
   "metadata": {},
   "outputs": [
    {
     "name": "stdin",
     "output_type": "stream",
     "text": [
      "Enter a number from 0 to 9: 9\n"
     ]
    },
    {
     "name": "stdout",
     "output_type": "stream",
     "text": [
      "Nine\n"
     ]
    }
   ],
   "source": [
    "s = int(input(\"Enter a number from 0 to 9:\"))\n",
    "if s == 0:\n",
    "    print(\"ZERO\")\n",
    "elif s == 1:\n",
    "    print(\"One\")\n",
    "elif s == 2:\n",
    "    print(\"Two\")\n",
    "elif s == 3:\n",
    "    print(\"Three\")\n",
    "elif s == 4:\n",
    "    print(\"Four\")\n",
    "elif s == 5:\n",
    "    print(\"Five\")\n",
    "elif s == 6:\n",
    "    print(\"Six\")\n",
    "elif s == 7:\n",
    "    print(\"Seven\")\n",
    "elif s == 8:\n",
    "    print(\"Eight\")\n",
    "elif s == 9:\n",
    "    print(\"Nine\")\n",
    "else:\n",
    "    print(\"Your Given number is not from 0 to 9\")"
   ]
  },
  {
   "cell_type": "code",
   "execution_count": 11,
   "id": "c3395649-185c-4850-a255-198bb24c0606",
   "metadata": {},
   "outputs": [
    {
     "name": "stdin",
     "output_type": "stream",
     "text": [
      "enter a number from 0 to 9: 8\n"
     ]
    },
    {
     "name": "stdout",
     "output_type": "stream",
     "text": [
      "EIGHT\n"
     ]
    }
   ],
   "source": [
    "s = ['ZERO','ONE','TWO','THREE','FOUR','FIVE','SIX','SEVEN','EIGHT','NINE']\n",
    "n = int(input('enter a number from 0 to 9:'))\n",
    "print(s[n])"
   ]
  },
  {
   "cell_type": "code",
   "execution_count": null,
   "id": "1d556ccd-211c-4bef-b947-68bd607aa190",
   "metadata": {},
   "outputs": [],
   "source": []
  }
 ],
 "metadata": {
  "kernelspec": {
   "display_name": "Python 3 (ipykernel)",
   "language": "python",
   "name": "python3"
  },
  "language_info": {
   "codemirror_mode": {
    "name": "ipython",
    "version": 3
   },
   "file_extension": ".py",
   "mimetype": "text/x-python",
   "name": "python",
   "nbconvert_exporter": "python",
   "pygments_lexer": "ipython3",
   "version": "3.13.4"
  }
 },
 "nbformat": 4,
 "nbformat_minor": 5
}
